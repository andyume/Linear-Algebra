{
 "cells": [
  {
   "cell_type": "code",
   "execution_count": 2,
   "id": "81cf7330",
   "metadata": {},
   "outputs": [],
   "source": [
    "import numpy as np"
   ]
  },
  {
   "attachments": {
    "image-2.png": {
     "image/png": "[encoded data removed]"
    },
    "image-3.png": {
     "image/png": "[encoded data removed]"
    },
    "image.png": {
     "image/png": "[encoded data removed]"
    }
   },
   "cell_type": "markdown",
   "id": "fddae9a3",
   "metadata": {},
   "source": [
    "# C1. 다음 연립방정식의 해를 행렬을 이용하여 찾는 프로그램을 작성\n",
    "![image.png](attachment:image.png)\n",
    "![image-2.png](attachment:image-2.png)\n",
    "![image-3.png](attachment:image-3.png)"
   ]
  },
  {
   "cell_type": "code",
   "execution_count": 12,
   "id": "fc15507c",
   "metadata": {},
   "outputs": [
    {
     "ename": "SyntaxError",
     "evalue": "invalid syntax (3154781214.py, line 3)",
     "output_type": "error",
     "traceback": [
      "\u001b[1;36m  Input \u001b[1;32mIn [12]\u001b[1;36m\u001b[0m\n\u001b[1;33m    print solve_right(b)\u001b[0m\n\u001b[1;37m          ^\u001b[0m\n\u001b[1;31mSyntaxError\u001b[0m\u001b[1;31m:\u001b[0m invalid syntax\n"
     ]
    }
   ],
   "source": [
    "A =np.array([[1,-2,1], [0,2,-8], [5,0,-5]]) # 계수 행렬 A\n",
    "b = vector([0,8,10]) # 상수 벡터 b\n",
    "print A.solve_right(b)"
   ]
  },
  {
   "attachments": {
    "image.png": {
     "image/png": "[encoded data removed]"
    }
   },
   "cell_type": "markdown",
   "id": "a94b4daa",
   "metadata": {},
   "source": [
    "# C2. 다음 행렬의 행렬식과 역행렬을 구하는 프로그램을 작성\n",
    "![image.png](attachment:image.png)"
   ]
  },
  {
   "cell_type": "code",
   "execution_count": null,
   "id": "e64fbb31",
   "metadata": {},
   "outputs": [],
   "source": []
  },
  {
   "cell_type": "markdown",
   "id": "30c8e92c",
   "metadata": {},
   "source": [
    "# C3. 다음 벡터 x=[1, 3]에 직교하는 단위벡터를 구하는 프로그램을 작성"
   ]
  },
  {
   "cell_type": "code",
   "execution_count": null,
   "id": "65987108",
   "metadata": {},
   "outputs": [],
   "source": []
  },
  {
   "cell_type": "markdown",
   "id": "1372f69d",
   "metadata": {},
   "source": [
    "# C4. 다음 벡터 x=[1, 3]에 직교하는 직선을 구하는 프로그램을 작성"
   ]
  },
  {
   "cell_type": "code",
   "execution_count": null,
   "id": "06793753",
   "metadata": {},
   "outputs": [],
   "source": []
  },
  {
   "attachments": {
    "image.png": {
     "image/png": "[encoded data removed]"
    }
   },
   "cell_type": "markdown",
   "id": "a9249321",
   "metadata": {},
   "source": [
    "# C5. 다음 행렬의 고유값과 고유벡터를 구하시오\n",
    "![image.png](attachment:image.png)"
   ]
  },
  {
   "cell_type": "code",
   "execution_count": 6,
   "id": "5e4bdefa",
   "metadata": {},
   "outputs": [
    {
     "data": {
      "text/plain": [
       "array([[ 1,  3,  3],\n",
       "       [ 2,  6,  9],\n",
       "       [-1, -3,  2]])"
      ]
     },
     "execution_count": 6,
     "metadata": {},
     "output_type": "execute_result"
    }
   ],
   "source": [
    "import numpy as np\n",
    "A=np.array([[1,3,3],[2,6,9],[-1,-3,2]])\n",
    "A"
   ]
  },
  {
   "cell_type": "code",
   "execution_count": 8,
   "id": "4bb03e26",
   "metadata": {},
   "outputs": [
    {
     "ename": "LinAlgError",
     "evalue": "Singular matrix",
     "output_type": "error",
     "traceback": [
      "\u001b[1;31m---------------------------------------------------------------------------\u001b[0m",
      "\u001b[1;31mLinAlgError\u001b[0m                               Traceback (most recent call last)",
      "Input \u001b[1;32mIn [8]\u001b[0m, in \u001b[0;36m<cell line: 3>\u001b[1;34m()\u001b[0m\n\u001b[0;32m      1\u001b[0m \u001b[38;5;28;01mimport\u001b[39;00m \u001b[38;5;21;01mnumpy\u001b[39;00m \u001b[38;5;28;01mas\u001b[39;00m \u001b[38;5;21;01mnp\u001b[39;00m\n\u001b[0;32m      2\u001b[0m A\u001b[38;5;241m=\u001b[39mnp\u001b[38;5;241m.\u001b[39marray([[\u001b[38;5;241m1\u001b[39m,\u001b[38;5;241m3\u001b[39m,\u001b[38;5;241m3\u001b[39m],[\u001b[38;5;241m2\u001b[39m,\u001b[38;5;241m6\u001b[39m,\u001b[38;5;241m9\u001b[39m],[\u001b[38;5;241m-\u001b[39m\u001b[38;5;241m1\u001b[39m,\u001b[38;5;241m-\u001b[39m\u001b[38;5;241m3\u001b[39m,\u001b[38;5;241m2\u001b[39m]])\n\u001b[1;32m----> 3\u001b[0m C\u001b[38;5;241m=\u001b[39m\u001b[43mnp\u001b[49m\u001b[38;5;241;43m.\u001b[39;49m\u001b[43mlinalg\u001b[49m\u001b[38;5;241;43m.\u001b[39;49m\u001b[43minv\u001b[49m\u001b[43m(\u001b[49m\u001b[43mA\u001b[49m\u001b[43m)\u001b[49m\n\u001b[0;32m      4\u001b[0m \u001b[38;5;28mprint\u001b[39m(C)\n",
      "File \u001b[1;32m<__array_function__ internals>:5\u001b[0m, in \u001b[0;36minv\u001b[1;34m(*args, **kwargs)\u001b[0m\n",
      "File \u001b[1;32mC:\\ProgramData\\Anaconda3\\lib\\site-packages\\numpy\\linalg\\linalg.py:545\u001b[0m, in \u001b[0;36minv\u001b[1;34m(a)\u001b[0m\n\u001b[0;32m    543\u001b[0m signature \u001b[38;5;241m=\u001b[39m \u001b[38;5;124m'\u001b[39m\u001b[38;5;124mD->D\u001b[39m\u001b[38;5;124m'\u001b[39m \u001b[38;5;28;01mif\u001b[39;00m isComplexType(t) \u001b[38;5;28;01melse\u001b[39;00m \u001b[38;5;124m'\u001b[39m\u001b[38;5;124md->d\u001b[39m\u001b[38;5;124m'\u001b[39m\n\u001b[0;32m    544\u001b[0m extobj \u001b[38;5;241m=\u001b[39m get_linalg_error_extobj(_raise_linalgerror_singular)\n\u001b[1;32m--> 545\u001b[0m ainv \u001b[38;5;241m=\u001b[39m \u001b[43m_umath_linalg\u001b[49m\u001b[38;5;241;43m.\u001b[39;49m\u001b[43minv\u001b[49m\u001b[43m(\u001b[49m\u001b[43ma\u001b[49m\u001b[43m,\u001b[49m\u001b[43m \u001b[49m\u001b[43msignature\u001b[49m\u001b[38;5;241;43m=\u001b[39;49m\u001b[43msignature\u001b[49m\u001b[43m,\u001b[49m\u001b[43m \u001b[49m\u001b[43mextobj\u001b[49m\u001b[38;5;241;43m=\u001b[39;49m\u001b[43mextobj\u001b[49m\u001b[43m)\u001b[49m\n\u001b[0;32m    546\u001b[0m \u001b[38;5;28;01mreturn\u001b[39;00m wrap(ainv\u001b[38;5;241m.\u001b[39mastype(result_t, copy\u001b[38;5;241m=\u001b[39m\u001b[38;5;28;01mFalse\u001b[39;00m))\n",
      "File \u001b[1;32mC:\\ProgramData\\Anaconda3\\lib\\site-packages\\numpy\\linalg\\linalg.py:88\u001b[0m, in \u001b[0;36m_raise_linalgerror_singular\u001b[1;34m(err, flag)\u001b[0m\n\u001b[0;32m     87\u001b[0m \u001b[38;5;28;01mdef\u001b[39;00m \u001b[38;5;21m_raise_linalgerror_singular\u001b[39m(err, flag):\n\u001b[1;32m---> 88\u001b[0m     \u001b[38;5;28;01mraise\u001b[39;00m LinAlgError(\u001b[38;5;124m\"\u001b[39m\u001b[38;5;124mSingular matrix\u001b[39m\u001b[38;5;124m\"\u001b[39m)\n",
      "\u001b[1;31mLinAlgError\u001b[0m: Singular matrix"
     ]
    }
   ],
   "source": [
    "import numpy as np\n",
    "A=np.array([[1,3,3],[2,6,9],[-1,-3,2]])\n",
    "C=np.linalg.inv(A)\n",
    "print(C)"
   ]
  },
  {
   "cell_type": "code",
   "execution_count": 9,
   "id": "c147386f",
   "metadata": {},
   "outputs": [
    {
     "ename": "TypeError",
     "evalue": "_solve_dispatcher() missing 1 required positional argument: 'b'",
     "output_type": "error",
     "traceback": [
      "\u001b[1;31m---------------------------------------------------------------------------\u001b[0m",
      "\u001b[1;31mTypeError\u001b[0m                                 Traceback (most recent call last)",
      "Input \u001b[1;32mIn [9]\u001b[0m, in \u001b[0;36m<cell line: 3>\u001b[1;34m()\u001b[0m\n\u001b[0;32m      1\u001b[0m \u001b[38;5;28;01mimport\u001b[39;00m \u001b[38;5;21;01mnumpy\u001b[39;00m \u001b[38;5;28;01mas\u001b[39;00m \u001b[38;5;21;01mnp\u001b[39;00m\n\u001b[0;32m      2\u001b[0m A\u001b[38;5;241m=\u001b[39mnp\u001b[38;5;241m.\u001b[39marray([[\u001b[38;5;241m1\u001b[39m,\u001b[38;5;241m3\u001b[39m,\u001b[38;5;241m3\u001b[39m],[\u001b[38;5;241m2\u001b[39m,\u001b[38;5;241m6\u001b[39m,\u001b[38;5;241m9\u001b[39m],[\u001b[38;5;241m-\u001b[39m\u001b[38;5;241m1\u001b[39m,\u001b[38;5;241m-\u001b[39m\u001b[38;5;241m3\u001b[39m,\u001b[38;5;241m2\u001b[39m]])\n\u001b[1;32m----> 3\u001b[0m D\u001b[38;5;241m=\u001b[39m\u001b[43mnp\u001b[49m\u001b[38;5;241;43m.\u001b[39;49m\u001b[43mlinalg\u001b[49m\u001b[38;5;241;43m.\u001b[39;49m\u001b[43msolve\u001b[49m\u001b[43m(\u001b[49m\u001b[43mA\u001b[49m\u001b[43m)\u001b[49m\n\u001b[0;32m      4\u001b[0m \u001b[38;5;28mprint\u001b[39m(D)\n",
      "File \u001b[1;32m<__array_function__ internals>:4\u001b[0m, in \u001b[0;36msolve\u001b[1;34m(*args, **kwargs)\u001b[0m\n",
      "\u001b[1;31mTypeError\u001b[0m: _solve_dispatcher() missing 1 required positional argument: 'b'"
     ]
    }
   ],
   "source": [
    "import numpy as np\n",
    "A=np.array([[1,3,3],[2,6,9],[-1,-3,2]])\n",
    "D=np.linalg.solve(A)\n",
    "print(D)"
   ]
  },
  {
   "attachments": {
    "image.png": {
     "image/png": "[encoded data removed]"
    }
   },
   "cell_type": "markdown",
   "id": "52fa2bc1",
   "metadata": {},
   "source": [
    "# C6. 다음 행렬의 특이값과 특이행렬을 구하는 프로그램을 작성\n",
    "![image.png](attachment:image.png)"
   ]
  },
  {
   "cell_type": "code",
   "execution_count": null,
   "id": "d451c8f2",
   "metadata": {},
   "outputs": [],
   "source": []
  },
  {
   "attachments": {
    "image.png": {
     "image/png": "[encoded data removed]"
    }
   },
   "cell_type": "markdown",
   "id": "a3ad8ab6",
   "metadata": {},
   "source": [
    "# C7. 다음 행렬의 영공간(null space)을 구하는 프로그램을 작성\n",
    "![image.png](attachment:image.png)"
   ]
  },
  {
   "cell_type": "code",
   "execution_count": null,
   "id": "8b1f6b4f",
   "metadata": {},
   "outputs": [],
   "source": []
  },
  {
   "cell_type": "markdown",
   "id": "e897c12b",
   "metadata": {},
   "source": [
    "# H1. 인공지능에서 선형대수를 사용하는 이유에 대하여 설명"
   ]
  },
  {
   "cell_type": "markdown",
   "id": "e51d30db",
   "metadata": {},
   "source": []
  },
  {
   "cell_type": "markdown",
   "id": "0e76653b",
   "metadata": {},
   "source": [
    "# H2. 선형독립과 선형종속에 대하여 설명"
   ]
  },
  {
   "cell_type": "markdown",
   "id": "fe838001",
   "metadata": {},
   "source": []
  },
  {
   "cell_type": "markdown",
   "id": "6d3b7b77",
   "metadata": {},
   "source": [
    "# H3. 선형변환에 대하여 설명"
   ]
  },
  {
   "cell_type": "markdown",
   "id": "726e9016",
   "metadata": {},
   "source": []
  },
  {
   "cell_type": "markdown",
   "id": "d964b7ef",
   "metadata": {},
   "source": [
    "# H4. 벡터의 기저에 대하여 설명"
   ]
  },
  {
   "cell_type": "markdown",
   "id": "c5a90391",
   "metadata": {},
   "source": []
  },
  {
   "cell_type": "markdown",
   "id": "a71e331a",
   "metadata": {},
   "source": [
    "# H5. 벡터의 직교에 대하여 설명"
   ]
  },
  {
   "cell_type": "markdown",
   "id": "60aaff7a",
   "metadata": {},
   "source": []
  },
  {
   "cell_type": "markdown",
   "id": "610db0f9",
   "metadata": {},
   "source": [
    "# H6. 벡터의 랭크에 대하여 설명"
   ]
  },
  {
   "cell_type": "markdown",
   "id": "e3c1a624",
   "metadata": {},
   "source": []
  },
  {
   "cell_type": "markdown",
   "id": "1440e8d2",
   "metadata": {},
   "source": [
    "# H7. 벡터의 span에 대하여 설명"
   ]
  },
  {
   "cell_type": "markdown",
   "id": "31a35027",
   "metadata": {},
   "source": []
  },
  {
   "cell_type": "markdown",
   "id": "147688f9",
   "metadata": {},
   "source": [
    "# H8. 벡터공간과 부분공간에 대하여 설명"
   ]
  },
  {
   "cell_type": "markdown",
   "id": "6a3474d1",
   "metadata": {},
   "source": []
  },
  {
   "cell_type": "markdown",
   "id": "3f38acf6",
   "metadata": {},
   "source": [
    "# H9. 벡터의 내적와 외적에 대하여 설명"
   ]
  },
  {
   "attachments": {
    "image-2.png": {
     "image/png": "[encoded data removed]"
    },
    "image-3.png": {
     "image/png": "[encoded data removed]"
    },
    "image-4.png": {
     "image/png": "[encoded data removed]"
    },
    "image.png": {
     "image/png": "[encoded data removed]"
    }
   },
   "cell_type": "markdown",
   "id": "9036c586",
   "metadata": {},
   "source": [
    "## 1. 내적 (Inner Product)\n",
    "1-1. 내적은 두 벡터의 곱이다. Dot Product라고 칭한다.</br>\n",
    "1-2.벡터 A와 벡터 B의 내적은 A · B 로 표현할 수 있다.</br>\n",
    "1-2-1. 풀어서 표현하면 A · B = |A| |B| Cosθ 로 표현.(|A| 는 벡터 A의 크기, θ는 벡터 A, B 사이에 이루는 각도)</br>\n",
    "![image.png](attachment:image.png)\n",
    "그림에서 |A|Cosθ는 벡터 B와 평행하고 벡터 A에서 벡터 B로 수직으로 그은 삼각형의 밑변이 된다.</br></br>\n",
    "1-3. 따라서 |B|를 곱하면 내적이 된다. \n",
    "![image-2.png](attachment:image-2.png)\n",
    "두 벡터가 수직일때 내적은 0이다. 그 이유는 Cosθ 가 θ 가 90인 경우 0이기 때문이다.</br></br>\n",
    "벡터의 내적의 결과값은 상수가 나오게되는데 이를 벡터가 아닌 스칼라라고 한다.\n",
    "\n",
    "## 2. 외적 (Cross Product)\n",
    "2-1. 외적은 두 벡터의 수직인 벡터를 구하는 방법이다. cross product라고 칭한다.</br>\n",
    "2-2. 기호로 x 를 사용하고 A x B 로 표현할 수 있다.</br>\n",
    "2-2-1. A x B 를 하면 두 벡터에 수직인 새로운 벡터 C가 나오기 때문에 표현하면 A x B = C 로 표현.</br>\n",
    "![image-3.png](attachment:image-3.png)\n",
    "벡터 A의 성분을 A = V(u1, u2, u3) 라고 하고 벡터 B의 성분을 B = V(v1, v2, v3)라고 하면 아래 그림과 같이 표현\n",
    "![image-4.png](attachment:image-4.png)\n",
    "2-3. A x B = V(u1, u2, u3) x V(v1, v2, v3) = C ((u2 * v3) - (v1 * u2), (v1 * u3) - (u1 * v3), (u1 * v2) - (v1 & u2)) 가 된다. </br>\n",
    "X 성분은  (u2 * v3) - (v1 * u2) 이고,</br>\n",
    "Y 성분은 (v1 * u3) - (u1 * v3) 이고,</br>\n",
    "Z 성분은 (u1 * v2) - (v1 & u2) 이다.</br>\n",
    "기하학적으로 벡터 C의 크기는 벡터 A와 벡터 B로 만든 사각형의 넓이가 된다.\n",
    "외적의 결과값은 벡터이다.</br></br>\n",
    "내적과 외적은 서로 상관이 없다. 반댓말이 아닌 두 가지 형태의 다른 연산이 존재하는 것"
   ]
  },
  {
   "cell_type": "markdown",
   "id": "2bc4632d",
   "metadata": {},
   "source": [
    "# H10. 벡터의 크기(p norm)에 대하여 설명"
   ]
  },
  {
   "attachments": {
    "image-2.png": {
     "image/png": "[encoded data removed]"
    },
    "image.png": {
     "image/png": "[encoded data removed]"
    }
   },
   "cell_type": "markdown",
   "id": "53de9150",
   "metadata": {},
   "source": [
    "1. Norm은 벡터의 길이 혹은 크기를 측정하는 방법이다.</br>\n",
    "2. Norm이 측정한 벡터의 크기는 원점에서 벡터 좌표까지의 거리 혹 Magnitude(규모)라고한다.</br>\n",
    "![image.png](attachment:image.png)\n",
    "3. p는 Lorm의 차수를 의미한다.</br>\n",
    "3-1. p가 1이면 L1 Norm, 2면 L2 Norm이다.</br>\n",
    "![image-2.png](attachment:image-2.png)\n",
    "위 그림을 보면 각각의 element(요소)의 절대값을 p제곱한다음 루트p 한다.</br></br>\n",
    "따라서 L1 norm은 element 절대값의 합에 해당하며, L2 norm은 피타고라스의 정리처럼 유클리드 거리를 구한것에 해당한다.</br>\n",
    "\n",
    "## Norm이 되기 위한 기본 조건 3가지\n",
    "\n",
    "1.∥x∥≥0이고, x = 0일 때만 ∥x∥=0이다.</br>\n",
    "2.∥ax∥=|a|∥x∥</br>\n",
    "3.∥x+y∥≤∥x∥+∥y∥</br>"
   ]
  },
  {
   "cell_type": "markdown",
   "id": "2725ec5f",
   "metadata": {},
   "source": [
    "# H11. 벡터의 거리에 대하여 설명(종류 및 인공지능에서의 활용 등)하시오. "
   ]
  },
  {
   "attachments": {
    "image-2.png": {
     "image/png": "[encoded data removed]"
    },
    "image-3.png": {
     "image/png": "[encoded data removed]"
    },
    "image.png": {
     "image/png": "[encoded data removed]"
    }
   },
   "cell_type": "markdown",
   "id": "3cf51736",
   "metadata": {},
   "source": [
    "## L1 Norm\n",
    "#### L1 Norm 공식\n",
    "![image.png](attachment:image.png)\n",
    "4. L1 Norm을 Taxicab Norm 혹은 Manhattan Norm 이라고 한다.</br>\n",
    "4-1. L1 Norm은 벡터의 요소에 대한 절댓값의 합. 요소의 값 변화를 정확하게 파악할 수 있다.</br>\n",
    "### 벡터 x의 L1 Norm계산법</br>\n",
    "x=[1,2,3,4,5]</br>\n",
    "||x||1=(|1|+|2|+|3|+|4|+|5|)=15 </br></br>\n",
    "### L1 Norm은 1. L1 Regularization, 2. Computer Vision과 같은 영역에서 사용된다.</br>\n",
    "\n",
    "## L2 Norm(출발점에서 도착점까지의 거리를 직선거리로 측정)\n",
    "#### L2 Norm 공식\n",
    "![image-2.png](attachment:image-2.png)\n",
    "5. L2 Norm은 n 차원 좌표평면(유클리드 공간)에서의 벡터의 크기를 계산하기 때문에 유클리드 노름(Euclidean norm)이라고 한다.</br>\n",
    "5-1. L2 Norm은 2차원 좌표 평면상의 최단거리르 계산하는 피타고라스 정리다.</br>\n",
    "### L2 Norm계산법</br>\n",
    "x=[1,2,3,4,5]</br>\n",
    "||x||2=√(|1|2+|2|2+|3|2+|4|2+|5|2)    =√1+4+9+16+25    =√55   =7.416</br></br>\n",
    "### L2 Norm은 1. L2 Regularization, 2. KNN알고리즘, 3. kmean알고리즘과 같은 영역에서 사용된다.</br>\n",
    "\n",
    "## L∞ Norm(벡터 성분들의 절대값 중에서 가장 큰 값으로 계산)\n",
    "#### L∞ Norm공식\n",
    "![image-3.png](attachment:image-3.png)\n",
    "### L∞ Norm계산법</br>\n",
    "x=[4,-3,7]이라면</br>\n",
    "∥x∥∞=7이된다.</br></br>\n"
   ]
  },
  {
   "cell_type": "markdown",
   "id": "fdba8c0d",
   "metadata": {},
   "source": [
    "# H12. 행렬의 고유값과 고유벡터에 대하여 설명"
   ]
  },
  {
   "attachments": {
    "image.png": {
     "image/png": "[encoded data removed]"
    }
   },
   "cell_type": "markdown",
   "id": "c58dd6fd",
   "metadata": {},
   "source": [
    "벡터에 행렬 연산을 해준다면 원래 것과 다른 벡터가 나온다.</br>\n",
    "이때 특정한 벡터와 행렬은 선형 변환을 해주었을 때, 크기만 바뀌고 방향은 바뀌지 않을 수도 있다고 생각해볼 수 있다,</br>\n",
    "\n",
    "생각해보면 입력 벡터 →x를 A로 선형변환 시킨 결과(A→x)가 상수배라는 것을 알 수 있다.\n",
    "![image.png](attachment:image.png)\n",
    "임의의 n×n 행렬 A 에 대하여, 0이 아닌 솔루션 벡터 →x 가 존재한다면 숫자 λ 는 행렬 A 의 고윳값이라고 한다.</br></br>\n",
    "이 때, 솔루션 벡터 →x 는 고윳값 λ 에 대응하는 고유벡터이다. </br>\n",
    "#### λ는 '행렬 A의 고유값', v는 '행렬 A의 λ에 대한 고유벡터라고 설명할 수 있습니다.\n",
    "\n",
    "## eigen vector(고유백터)\n",
    "행렬 A를 선형변환으로 봤을 때, 선형변환 A에 의한 변환 결과가 자신의 상수배가 되는 0이 아닌 벡터를 고유벡터라 한다.</br>\n",
    "\n",
    "## eigen value(고유값)\n",
    "그리고 그 상수배의 값을 고유값이라고 한다.\n",
    "\n",
    "### n x n 정방행렬(고유값, 고유벡터는 정방행렬에 대해서만 정의된다.</br>\n",
    "어떤 행렬에 대해 고유값은 유일하게 결정되지만 고유벡터는 유일하지 않는다.</br>\n",
    "\n",
    "## 고유값, 고유벡터 그 자체의 활용보다는 SVD(특이값분해), Pseudo-Inverse, 선형연립방정식의 풀이, PCA 등의 주요 응용이 고유값, 고유벡터를 그 밑바탕에서 사용하기 때문에 중요하다고 생각됩니다."
   ]
  },
  {
   "cell_type": "markdown",
   "id": "988ed6f9",
   "metadata": {},
   "source": [
    "# H13. 행렬분해에 대하여 설명(종류 및 인공지능에서의 활용 등)하시오."
   ]
  },
  {
   "cell_type": "markdown",
   "id": "52f2ccfc",
   "metadata": {},
   "source": []
  },
  {
   "cell_type": "markdown",
   "id": "7a3cbadb",
   "metadata": {},
   "source": [
    "# H14. SVM(Support Vector Machine) 알고리즘에 대하여 설명"
   ]
  },
  {
   "cell_type": "markdown",
   "id": "8e370c0d",
   "metadata": {},
   "source": []
  },
  {
   "cell_type": "markdown",
   "id": "ac78f3ef",
   "metadata": {},
   "source": [
    "# H15. 차원축소 알고리즘에 대하여 설명"
   ]
  },
  {
   "cell_type": "markdown",
   "id": "33c513fe",
   "metadata": {},
   "source": []
  },
  {
   "cell_type": "markdown",
   "id": "a95b7c8d",
   "metadata": {},
   "source": [
    "# H16. 딥러닝에서 사용되는 선형대수(data encoding 등)에 대하여 설명"
   ]
  },
  {
   "cell_type": "markdown",
   "id": "2e7fa3ea",
   "metadata": {},
   "source": []
  }
 ],
 "metadata": {
  "kernelspec": {
   "display_name": "Python 3 (ipykernel)",
   "language": "python",
   "name": "python3"
  },
  "language_info": {
   "codemirror_mode": {
    "name": "ipython",
    "version": 3
   },
   "file_extension": ".py",
   "mimetype": "text/x-python",
   "name": "python",
   "nbconvert_exporter": "python",
   "pygments_lexer": "ipython3",
   "version": "3.9.12"
  }
 },
 "nbformat": 4,
 "nbformat_minor": 5
}
